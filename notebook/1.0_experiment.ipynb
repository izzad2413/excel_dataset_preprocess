{
 "cells": [
  {
   "cell_type": "code",
   "execution_count": 1,
   "id": "62434ae3",
   "metadata": {},
   "outputs": [],
   "source": [
    "import pandas as pd\n",
    "import glob\n",
    "import os"
   ]
  },
  {
   "cell_type": "code",
   "execution_count": 9,
   "id": "be1c3815",
   "metadata": {},
   "outputs": [],
   "source": [
    "def clean_excel_files(folder_path, output_file):\n",
    "    # Read all Excel files\n",
    "    files = glob.glob(os.path.join(folder_path, '*.xlsx'))\n",
    "    if not files:\n",
    "        print(\"No Excel files found.\")\n",
    "        return\n",
    "\n",
    "    df_list = [pd.read_excel(file) for file in files]\n",
    "    df = pd.concat(df_list, ignore_index=True)\n",
    "\n",
    "    # Remove duplicates\n",
    "    df.drop_duplicates(inplace=True)\n",
    "\n",
    "    # Reformat columns\n",
    "    df['date'] = pd.to_datetime(df['date'], errors='coerce')  # Date\n",
    "    df['amount_purchase'] = df['amount_purchase'].astype(float)  # Currency\n",
    "\n",
    "    # Fill nulls\n",
    "    for col in df.columns:\n",
    "        if df[col].dtype == 'O':\n",
    "            df[col] = df[col].fillna(df[col].mode()[0])\n",
    "        else:\n",
    "            df[col] = df[col].fillna(df[col].median())\n",
    "\n",
    "    # Save cleaned file\n",
    "    df.to_excel(output_file, index=False)\n",
    "    print(f\"✅ Cleaned data saved to {output_file}\")"
   ]
  },
  {
   "cell_type": "code",
   "execution_count": 11,
   "id": "e35f1aa9",
   "metadata": {},
   "outputs": [],
   "source": [
    "folder_path = '../data/raw'\n",
    "output_file = '../data/test/cleaned_data.xlsx'"
   ]
  },
  {
   "cell_type": "code",
   "execution_count": 12,
   "id": "bb88723a",
   "metadata": {},
   "outputs": [
    {
     "name": "stdout",
     "output_type": "stream",
     "text": [
      "✅ Cleaned data saved to ../data/test/cleaned_data.xlsx\n"
     ]
    }
   ],
   "source": [
    "clean_excel_files(folder_path, output_file)"
   ]
  }
 ],
 "metadata": {
  "kernelspec": {
   "display_name": "Python 3",
   "language": "python",
   "name": "python3"
  },
  "language_info": {
   "codemirror_mode": {
    "name": "ipython",
    "version": 3
   },
   "file_extension": ".py",
   "mimetype": "text/x-python",
   "name": "python",
   "nbconvert_exporter": "python",
   "pygments_lexer": "ipython3",
   "version": "3.12.0"
  }
 },
 "nbformat": 4,
 "nbformat_minor": 5
}
